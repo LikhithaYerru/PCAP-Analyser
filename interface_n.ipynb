{
 "cells": [
  {
   "cell_type": "code",
   "execution_count": null,
   "metadata": {},
   "outputs": [],
   "source": [
    "a=10\n",
    "a"
   ]
  },
  {
   "cell_type": "code",
   "execution_count": null,
   "metadata": {},
   "outputs": [],
   "source": [
    "pip install scapy"
   ]
  },
  {
   "cell_type": "code",
   "execution_count": 4,
   "metadata": {},
   "outputs": [
    {
     "name": "stdout",
     "output_type": "stream",
     "text": [
      "<2022-02-23-traffic-analysis-exercise.pcap: TCP:28436 UDP:987 ICMP:12 Other:588>\n"
     ]
    }
   ],
   "source": [
    "from scapy.all import *\n",
    "pcap=\"C:\\\\Users\\\\cdac-\\\\Downloads\\\\2022-02-23-traffic-analysis-exercise.pcap\\\\2022-02-23-traffic-analysis-exercise.pcap\"\n",
    "p=rdpcap(pcap)\n",
    "print(p)\n",
    "#wrpcap(p)"
   ]
  },
  {
   "cell_type": "code",
   "execution_count": 3,
   "metadata": {},
   "outputs": [
    {
     "data": {
      "text/plain": [
       "30023"
      ]
     },
     "execution_count": 3,
     "metadata": {},
     "output_type": "execute_result"
    }
   ],
   "source": [
    "len(p)"
   ]
  },
  {
   "cell_type": "code",
   "execution_count": 23,
   "metadata": {},
   "outputs": [
    {
     "name": "stdout",
     "output_type": "stream",
     "text": [
      "Requirement already satisfied: pyshark in c:\\users\\cdac-\\appdata\\local\\programs\\python\\python311\\lib\\site-packages (0.6)\n",
      "Note: you may need to restart the kernel to use updated packages.Requirement already satisfied: lxml in c:\\users\\cdac-\\appdata\\local\\programs\\python\\python311\\lib\\site-packages (from pyshark) (4.9.2)\n",
      "\n",
      "Requirement already satisfied: termcolor in c:\\users\\cdac-\\appdata\\local\\programs\\python\\python311\\lib\\site-packages (from pyshark) (2.3.0)\n",
      "Requirement already satisfied: packaging in c:\\users\\cdac-\\appdata\\roaming\\python\\python311\\site-packages (from pyshark) (23.1)\n",
      "Requirement already satisfied: appdirs in c:\\users\\cdac-\\appdata\\local\\programs\\python\\python311\\lib\\site-packages (from pyshark) (1.4.4)\n"
     ]
    }
   ],
   "source": [
    "pip install pyshark"
   ]
  },
  {
   "cell_type": "code",
   "execution_count": 2,
   "metadata": {},
   "outputs": [
    {
     "name": "stderr",
     "output_type": "stream",
     "text": [
      "c:\\Users\\cdac-\\AppData\\Local\\Programs\\Python\\Python311\\Lib\\site-packages\\pyshark\\capture\\capture.py:177: UserWarning: The running eventloop has tasks but pyshark must set a new eventloop to continue. Existing tasks may not run.\n",
      "  warnings.warn(\"The running eventloop has tasks but pyshark must set a new eventloop to continue. \"\n"
     ]
    },
    {
     "name": "stdout",
     "output_type": "stream",
     "text": [
      "0\n"
     ]
    }
   ],
   "source": [
    "import pyshark\n",
    "c=\"C:\\\\Users\\\\cdac-\\\\Downloads\\\\2022-02-23-traffic-analysis-exercise.pcap\\\\2022-02-23-traffic-analysis-exercise.pcap\"\n",
    "cc=pyshark.FileCapture(c)\n",
    "print(len(cc))"
   ]
  },
  {
   "cell_type": "code",
   "execution_count": 14,
   "metadata": {},
   "outputs": [
    {
     "data": {
      "text/plain": [
       "'C:\\\\Users\\\\cdac-\\\\Downloads\\\\2022-02-23-traffic-analysis-exercise.pcap\\\\2022-02-23-traffic-analysis-exercise.pcap'"
      ]
     },
     "execution_count": 14,
     "metadata": {},
     "output_type": "execute_result"
    }
   ],
   "source": [
    "c"
   ]
  },
  {
   "cell_type": "code",
   "execution_count": 29,
   "metadata": {},
   "outputs": [
    {
     "data": {
      "text/plain": [
       "0"
      ]
     },
     "execution_count": 29,
     "metadata": {},
     "output_type": "execute_result"
    }
   ],
   "source": [
    "len(cc)"
   ]
  },
  {
   "cell_type": "code",
   "execution_count": 5,
   "metadata": {},
   "outputs": [
    {
     "name": "stdout",
     "output_type": "stream",
     "text": [
      "             Source IP   Destination IP Source Port Destination Port Protocol  \\\n",
      "0              0.0.0.0  255.255.255.255          68               67      UDP   \n",
      "1           172.16.0.1     172.16.0.131          67               68      UDP   \n",
      "2         172.16.0.131       224.0.0.22                                  IGMP   \n",
      "3         172.16.0.131      224.0.0.252       61063             5355      UDP   \n",
      "4         172.16.0.131       224.0.0.22                                  IGMP   \n",
      "...                ...              ...         ...              ...      ...   \n",
      "29483  116.254.112.253     172.16.0.149          25            49852      TCP   \n",
      "29484  116.254.112.253     172.16.0.149          25            49852      TCP   \n",
      "29485  116.254.112.253     172.16.0.149          25            49852      TCP   \n",
      "29486  116.254.112.253     172.16.0.149          25            49852      TCP   \n",
      "29487  116.254.112.253     172.16.0.149          25            49852      TCP   \n",
      "\n",
      "       Data Length                                               Info  \n",
      "0              379            Ether / IP / UDP / BOOTP / DHCP Request  \n",
      "1              342                Ether / IP / UDP / BOOTP / DHCP Ack  \n",
      "2               54          Ether / 172.16.0.131 > 224.0.0.22 2 / Raw  \n",
      "3               75  Ether / IP / UDP 172.16.0.131:61063 > 224.0.0....  \n",
      "4               54          Ether / 172.16.0.131 > 224.0.0.22 2 / Raw  \n",
      "...            ...                                                ...  \n",
      "29483           54  Ether / IP / TCP 116.254.112.253:smtp > 172.16...  \n",
      "29484           54  Ether / IP / TCP 116.254.112.253:smtp > 172.16...  \n",
      "29485           54  Ether / IP / TCP 116.254.112.253:smtp > 172.16...  \n",
      "29486           54  Ether / IP / TCP 116.254.112.253:smtp > 172.16...  \n",
      "29487           54  Ether / IP / TCP 116.254.112.253:smtp > 172.16...  \n",
      "\n",
      "[29488 rows x 7 columns]\n",
      "29488\n",
      "30023\n",
      "30023\n"
     ]
    }
   ],
   "source": [
    "import pandas as pd\n",
    "from scapy.all import*\n",
    "import socket as s\n",
    "protocol_names = {\n",
    "    1: \"ICMP\",\n",
    "    2:\"IGMP\",\n",
    "    41:\"IPv6\",\n",
    "    6: \"TCP\",\n",
    "    17: \"UDP\",\n",
    "    80: \"HTTP\",\n",
    "    443:\"HTTPS\",\n",
    "    21:\"FTP\",\n",
    "    25:\"SMTP\",\n",
    "    110:\"POP3\",\n",
    "    143:\"IMAP\",\n",
    "    53:\"DNS\",\n",
    "    22:\"SSH\",\n",
    "    23:\"Telnet\",\n",
    "    68:\"DHCP(Client)\",\n",
    "    67:\"DHCP(server)\",\n",
    "    123:\"NTP\"\n",
    "}\n",
    "d = []\n",
    "cn=0\n",
    "#pcap_reader = RawPcapReader(pcap)\n",
    "for i in p:\n",
    "    cn =cn+1\n",
    "\n",
    "    if IP in i:\n",
    "        source_ip = i[IP].src\n",
    "        destination_ip = i[IP].dst\n",
    "        if hasattr(i[IP], \"proto\"):\n",
    "            pnum = i[IP].proto\n",
    "        else:\n",
    "            pnum = None\n",
    "       \n",
    "        if TCP in i:\n",
    "            source_port = i[TCP].sport \n",
    "            destination_port = i[TCP].dport \n",
    "            payload = i[TCP].payload\n",
    "            protocol = protocol_names.get(pnum, 'Unknown')\n",
    "        elif UDP in i:\n",
    "            source_port = i[UDP].sport\n",
    "            destination_port = i[UDP].dport\n",
    "            payload = i[UDP].payload\n",
    "            protocol = protocol_names.get(pnum, 'Unknown')\n",
    "        \n",
    "           \n",
    "        else:\n",
    "            source_port=\"\"   \n",
    "            destination_port=\"\"\n",
    "            payload=i.payload\n",
    "            protocol=protocol_names.get(pnum,'Unknown')\n",
    "\n",
    "        \n",
    "\n",
    "      \n",
    "        data_length = len(i)\n",
    "        packet_info=i.summary()\n",
    "\n",
    "\n",
    "        d.append({'Source IP': source_ip,\n",
    "                        'Destination IP': destination_ip,\n",
    "                        'Source Port': source_port,\n",
    "                        'Destination Port': destination_port,\n",
    "                        'Protocol': protocol,\n",
    "                        'Data Length': data_length,\n",
    "                        'Info':packet_info})\n",
    "\n",
    "#pcap_reader.close()\n",
    "df = pd.DataFrame(d)\n",
    "print(df)\n",
    "\n",
    "print(len(df))\n",
    "print(len(p))\n",
    "print(cn)\n",
    "\n"
   ]
  },
  {
   "cell_type": "code",
   "execution_count": 6,
   "metadata": {},
   "outputs": [
    {
     "data": {
      "text/html": [
       "<div>\n",
       "<style scoped>\n",
       "    .dataframe tbody tr th:only-of-type {\n",
       "        vertical-align: middle;\n",
       "    }\n",
       "\n",
       "    .dataframe tbody tr th {\n",
       "        vertical-align: top;\n",
       "    }\n",
       "\n",
       "    .dataframe thead th {\n",
       "        text-align: right;\n",
       "    }\n",
       "</style>\n",
       "<table border=\"1\" class=\"dataframe\">\n",
       "  <thead>\n",
       "    <tr style=\"text-align: right;\">\n",
       "      <th></th>\n",
       "      <th>Source IP</th>\n",
       "      <th>Destination IP</th>\n",
       "      <th>Source Port</th>\n",
       "      <th>Destination Port</th>\n",
       "      <th>Protocol</th>\n",
       "      <th>Data Length</th>\n",
       "      <th>Info</th>\n",
       "    </tr>\n",
       "  </thead>\n",
       "  <tbody>\n",
       "    <tr>\n",
       "      <th>0</th>\n",
       "      <td>0.0.0.0</td>\n",
       "      <td>255.255.255.255</td>\n",
       "      <td>68</td>\n",
       "      <td>67</td>\n",
       "      <td>UDP</td>\n",
       "      <td>379</td>\n",
       "      <td>Ether / IP / UDP / BOOTP / DHCP Request</td>\n",
       "    </tr>\n",
       "    <tr>\n",
       "      <th>1</th>\n",
       "      <td>172.16.0.1</td>\n",
       "      <td>172.16.0.131</td>\n",
       "      <td>67</td>\n",
       "      <td>68</td>\n",
       "      <td>UDP</td>\n",
       "      <td>342</td>\n",
       "      <td>Ether / IP / UDP / BOOTP / DHCP Ack</td>\n",
       "    </tr>\n",
       "    <tr>\n",
       "      <th>2</th>\n",
       "      <td>172.16.0.131</td>\n",
       "      <td>224.0.0.22</td>\n",
       "      <td></td>\n",
       "      <td></td>\n",
       "      <td>IGMP</td>\n",
       "      <td>54</td>\n",
       "      <td>Ether / 172.16.0.131 &gt; 224.0.0.22 2 / Raw</td>\n",
       "    </tr>\n",
       "    <tr>\n",
       "      <th>3</th>\n",
       "      <td>172.16.0.131</td>\n",
       "      <td>224.0.0.252</td>\n",
       "      <td>61063</td>\n",
       "      <td>5355</td>\n",
       "      <td>UDP</td>\n",
       "      <td>75</td>\n",
       "      <td>Ether / IP / UDP 172.16.0.131:61063 &gt; 224.0.0....</td>\n",
       "    </tr>\n",
       "    <tr>\n",
       "      <th>4</th>\n",
       "      <td>172.16.0.131</td>\n",
       "      <td>224.0.0.22</td>\n",
       "      <td></td>\n",
       "      <td></td>\n",
       "      <td>IGMP</td>\n",
       "      <td>54</td>\n",
       "      <td>Ether / 172.16.0.131 &gt; 224.0.0.22 2 / Raw</td>\n",
       "    </tr>\n",
       "  </tbody>\n",
       "</table>\n",
       "</div>"
      ],
      "text/plain": [
       "      Source IP   Destination IP Source Port Destination Port Protocol  \\\n",
       "0       0.0.0.0  255.255.255.255          68               67      UDP   \n",
       "1    172.16.0.1     172.16.0.131          67               68      UDP   \n",
       "2  172.16.0.131       224.0.0.22                                  IGMP   \n",
       "3  172.16.0.131      224.0.0.252       61063             5355      UDP   \n",
       "4  172.16.0.131       224.0.0.22                                  IGMP   \n",
       "\n",
       "   Data Length                                               Info  \n",
       "0          379            Ether / IP / UDP / BOOTP / DHCP Request  \n",
       "1          342                Ether / IP / UDP / BOOTP / DHCP Ack  \n",
       "2           54          Ether / 172.16.0.131 > 224.0.0.22 2 / Raw  \n",
       "3           75  Ether / IP / UDP 172.16.0.131:61063 > 224.0.0....  \n",
       "4           54          Ether / 172.16.0.131 > 224.0.0.22 2 / Raw  "
      ]
     },
     "execution_count": 6,
     "metadata": {},
     "output_type": "execute_result"
    }
   ],
   "source": [
    "df.head()"
   ]
  },
  {
   "cell_type": "code",
   "execution_count": null,
   "metadata": {},
   "outputs": [],
   "source": [
    "len(df)"
   ]
  },
  {
   "cell_type": "code",
   "execution_count": null,
   "metadata": {},
   "outputs": [],
   "source": [
    "df.shape"
   ]
  },
  {
   "cell_type": "code",
   "execution_count": null,
   "metadata": {},
   "outputs": [],
   "source": [
    "df.size"
   ]
  },
  {
   "cell_type": "code",
   "execution_count": null,
   "metadata": {},
   "outputs": [],
   "source": [
    "df.tail(7)"
   ]
  },
  {
   "cell_type": "code",
   "execution_count": null,
   "metadata": {},
   "outputs": [],
   "source": [
    "df['Protocol'].unique()"
   ]
  },
  {
   "cell_type": "code",
   "execution_count": 7,
   "metadata": {},
   "outputs": [
    {
     "data": {
      "text/plain": [
       "array(['0.0.0.0', '172.16.0.1', '172.16.0.131', '172.16.0.52',\n",
       "       '23.218.224.154', '172.16.0.170', '52.182.141.63', '172.16.0.53',\n",
       "       '20.189.173.3', '204.79.197.203', '204.79.197.200',\n",
       "       '52.185.211.133', '65.52.5.117', '172.16.0.149', '20.189.173.9',\n",
       "       '20.189.173.15', '72.21.81.200', '20.140.147.202', '13.107.246.57',\n",
       "       '13.107.3.254', '23.218.224.151', '23.38.92.72', '13.107.246.254',\n",
       "       '13.107.4.254', '13.107.6.254', '204.79.197.254', '23.218.224.137',\n",
       "       '13.107.21.200', '40.126.7.32', '52.109.20.76', '40.126.28.13',\n",
       "       '20.50.80.210', '64.34.171.228', '135.148.121.246',\n",
       "       '144.217.88.125', '52.109.8.19', '178.211.56.194', '40.83.240.146',\n",
       "       '104.212.67.52', '52.168.117.169', '27.254.174.84', '180.250.21.2',\n",
       "       '52.183.220.149', '61.7.231.229', '52.113.194.132', '74.6.231.20',\n",
       "       '168.197.250.14', '156.96.154.210', '104.212.67.71',\n",
       "       '23.227.38.74', '72.167.191.69', '194.9.94.85', '198.54.117.210',\n",
       "       '120.55.51.124', '216.58.193.147', '198.185.159.144',\n",
       "       '213.186.33.5', '154.206.65.249', '104.21.89.147',\n",
       "       '66.235.200.112', '198.54.117.215', '209.17.116.163',\n",
       "       '104.16.12.194', '216.172.184.77', '52.238.248.4', '13.89.178.27',\n",
       "       '20.54.89.15', '3.130.253.23', '173.231.37.114', '52.238.248.1',\n",
       "       '20.189.173.11', '40.125.122.151', '184.168.99.26', '20.42.73.24',\n",
       "       '66.29.145.216', '23.47.49.133', '59.148.253.194', '52.109.76.31',\n",
       "       '162.144.76.184', '20.44.10.122', '128.199.93.156', '20.42.73.25',\n",
       "       '52.109.8.20', '40.126.7.35', '96.7.168.59', '40.126.28.19',\n",
       "       '195.154.146.35', '23.47.49.165', '139.196.72.155',\n",
       "       '159.69.237.188', '40.126.29.6', '185.148.168.220',\n",
       "       '191.252.103.16', '54.38.242.185', '185.184.25.78', '40.126.29.9',\n",
       "       '54.37.228.122', '45.71.195.104', '185.148.168.15',\n",
       "       '54.37.106.167', '103.41.204.169', '198.199.98.78', '61.7.231.226',\n",
       "       '210.57.209.142', '190.90.233.66', '85.214.67.203',\n",
       "       '68.183.93.250', '103.42.57.17', '37.44.244.177', '194.9.172.107',\n",
       "       '118.98.72.86', '78.46.73.125', '104.131.62.48', '128.199.192.135',\n",
       "       '134.209.156.68', '74.208.5.10', '74.208.5.15', '94.136.40.232',\n",
       "       '23.29.115.34', '94.177.209.30', '211.16.12.137', '210.131.2.36',\n",
       "       '116.254.112.253', '142.250.138.109', '40.97.120.162',\n",
       "       '192.185.4.31', '211.13.204.5', '122.17.147.238', '27.34.147.95'],\n",
       "      dtype=object)"
      ]
     },
     "execution_count": 7,
     "metadata": {},
     "output_type": "execute_result"
    }
   ],
   "source": [
    "df['Source IP'].unique()"
   ]
  },
  {
   "cell_type": "code",
   "execution_count": null,
   "metadata": {},
   "outputs": [],
   "source": [
    "df['Source IP'].nunique()"
   ]
  },
  {
   "cell_type": "code",
   "execution_count": null,
   "metadata": {},
   "outputs": [],
   "source": [
    "df['Destination IP'].nunique()"
   ]
  },
  {
   "cell_type": "code",
   "execution_count": null,
   "metadata": {},
   "outputs": [],
   "source": [
    "df.isnull().sum()"
   ]
  },
  {
   "cell_type": "code",
   "execution_count": null,
   "metadata": {},
   "outputs": [],
   "source": [
    "protocols=input().split()\n",
    "f=df[df['Protocol'].isin(protocols)]\n",
    "proto_f=f[['Source IP', 'Destination IP', 'Source Port', 'Destination Port']]\n",
    "proto_f"
   ]
  },
  {
   "cell_type": "code",
   "execution_count": null,
   "metadata": {},
   "outputs": [],
   "source": [
    "src1=input()\n",
    "filtered_packets = [i for i in p if IP in i and i[IP].src == src1]\n",
    "e=[]\n",
    "for i in filtered_packets:\n",
    "    if IP in i:\n",
    "        source_ip = i[IP].src\n",
    "        destination_ip = i[IP].dst\n",
    "        if hasattr(i[IP], \"proto\"):\n",
    "            pnum = i[IP].proto\n",
    "        else:\n",
    "            pnum= None\n",
    "       \n",
    "        if TCP in i:\n",
    "            source_port = i[TCP].sport \n",
    "            destination_port = i[TCP].dport \n",
    "            payload = i[TCP].payload\n",
    "            if payload and destination_port == 80:  \n",
    "                protocol = protocol_names[80]\n",
    "            else:\n",
    "                protocol = protocol_names.get(pnum, 'Unknown')\n",
    "        elif UDP in i:\n",
    "            source_port = i[UDP].sport\n",
    "            destination_port = i[UDP].dport\n",
    "            payload = i[UDP].payload\n",
    "            if payload and destination_port == 53:  \n",
    "                protocol = protocol_names[53]\n",
    "            else:\n",
    "                protocol = protocol_names.get(pnum, 'Unknown')\n",
    "           \n",
    "        else:\n",
    "            source_port=\"\"   \n",
    "            destination_port=\"\"\n",
    "            payload=i.payload\n",
    "            protocol=protocol_names.get(pnum,'Unknown')\n",
    "\n",
    "        \n",
    "\n",
    "      \n",
    "        data_length = len(i)\n",
    "        packet_info=i.summary()\n",
    "\n",
    "        \n",
    "\n",
    "        e.append({\n",
    "            'Source IP': source_ip,\n",
    "            'Destination IP': destination_ip,\n",
    "            'Source Port': source_port,\n",
    "            'Destination Port': destination_port,\n",
    "            'Protocol': protocol,\n",
    "            'Data Length': data_length,\n",
    "            'Info':packet_info\n",
    "        })\n",
    "kf=pd.DataFrame(e)\n",
    "kf"
   ]
  },
  {
   "cell_type": "code",
   "execution_count": null,
   "metadata": {},
   "outputs": [],
   "source": [
    "df['Destination IP'].unique()"
   ]
  },
  {
   "cell_type": "code",
   "execution_count": null,
   "metadata": {},
   "outputs": [],
   "source": [
    "dist1=input()\n",
    "filtered_packets = [i for i in p if IP in i and i[IP].dst == dist1]\n",
    "di=[]\n",
    "for i in filtered_packets:\n",
    "    if IP in i:\n",
    "        source_ip = i[IP].src\n",
    "        destination_ip = i[IP].dst\n",
    "        if hasattr(i[IP], \"proto\"):\n",
    "            pnum = i[IP].proto\n",
    "        else:\n",
    "            pnum= None\n",
    "       \n",
    "        if TCP in i:\n",
    "            source_port = i[TCP].sport \n",
    "            destination_port = i[TCP].dport \n",
    "            payload = i[TCP].payload\n",
    "            if payload and destination_port == 80:  \n",
    "                protocol = protocol_names[80]\n",
    "            else:\n",
    "                protocol = protocol_names.get(pnum, 'Unknown')\n",
    "        elif UDP in i:\n",
    "            source_port = i[UDP].sport\n",
    "            destination_port = i[UDP].dport\n",
    "            payload = i[UDP].payload\n",
    "            if payload and destination_port == 53:  \n",
    "                protocol = protocol_names[53]\n",
    "            else:\n",
    "                protocol = protocol_names.get(pnum, 'Unknown')\n",
    "           \n",
    "        else:\n",
    "            source_port=\"\"   \n",
    "            destination_port=\"\"\n",
    "            payload=i.payload\n",
    "            protocol=protocol_names.get(pnum,'Unknown')\n",
    "\n",
    "        \n",
    "\n",
    "      \n",
    "        data_length = len(i)\n",
    "        packet_info=i.summary()\n",
    "\n",
    "        \n",
    "\n",
    "        di.append({\n",
    "            'Source IP': source_ip,\n",
    "            'Destination IP': destination_ip,\n",
    "            'Source Port': source_port,\n",
    "            'Destination Port': destination_port,\n",
    "            'Protocol': protocol,\n",
    "            'Data Length': data_length,\n",
    "            'Info':packet_info\n",
    "        })\n",
    "kkf=pd.DataFrame(di)\n",
    "kkf"
   ]
  },
  {
   "cell_type": "code",
   "execution_count": null,
   "metadata": {},
   "outputs": [],
   "source": [
    "from scapy.all import *\n",
    "\n",
    "\n",
    "pcap_file = \"C:\\\\Users\\\\cdac-\\\\Downloads\\\\2022-02-23-traffic-analysis-exercise.pcap\\\\2022-02-23-traffic-analysis-exercise.pcap\"\n",
    "packets = rdpcap(pcap_file)\n",
    "\n",
    "num_packets = len(packets)\n",
    "src_ips = set()\n",
    "dst_ips = set()\n",
    "protocols = set()\n",
    "http_packets = []\n",
    "\n",
    "\n",
    "for packet in packets:\n",
    "    if IP in packet:\n",
    "        src_ips.add(packet[IP].src)\n",
    "        dst_ips.add(packet[IP].dst)\n",
    "    if IP in packet:\n",
    "        protocols.add(packet[IP].proto)\n",
    "\n",
    "    #print(packet.summary())\n",
    "    \n",
    "    \n",
    "print(\"Number of packets:\", num_packets)\n",
    "print(\"Source IP addresses:\", src_ips)\n",
    "print(\"Destination IP addresses:\", dst_ips)\n",
    "print(\"Protocols:\", protocols)\n",
    "print(\"HTTP packets:\", len(http_packets))\n"
   ]
  },
  {
   "cell_type": "code",
   "execution_count": null,
   "metadata": {},
   "outputs": [],
   "source": []
  },
  {
   "cell_type": "code",
   "execution_count": null,
   "metadata": {},
   "outputs": [],
   "source": []
  },
  {
   "cell_type": "code",
   "execution_count": null,
   "metadata": {},
   "outputs": [],
   "source": []
  },
  {
   "cell_type": "code",
   "execution_count": null,
   "metadata": {},
   "outputs": [],
   "source": [
    "def get_encapsulated_protocols(packet):\n",
    "    protocols = []\n",
    "    \n",
    "    while payload:\n",
    "        if hasattr(payload, 'proto'):\n",
    "            protocol_num = payload.proto\n",
    "            if protocol_num in protocol_names:\n",
    "                protocols.append(protocol_names[protocol_num])\n",
    "        \n",
    "        payload = payload.payload\n",
    "    \n",
    "    return protocols\n",
    "\n",
    "protocols_present = set()  # Set to store the unique protocols present in both TCP and UDP\n",
    "\n",
    "d = []\n",
    "cn = 0\n",
    "\n",
    "for packet in p:\n",
    "    cn += 1\n",
    "\n",
    "    if IP in packet:\n",
    "        source_ip = packet[IP].src\n",
    "        destination_ip = packet[IP].dst\n",
    "        \n",
    "        try:\n",
    "            pnum = packet[IP].proto\n",
    "        except AttributeError:\n",
    "            pnum = None\n",
    "\n",
    "        if TCP in packet:\n",
    "            source_port = packet[TCP].sport\n",
    "            destination_port = packet[TCP].dport\n",
    "            protocol = protocol_names.get(pnum, 'Unknown')\n",
    "            encapsulated_protocols = get_encapsulated_protocols(packet)\n",
    "            protocols_present.add(protocol)\n",
    "            protocols_present.update(encapsulated_protocols)\n",
    "        elif UDP in packet:\n",
    "            source_port = packet[UDP].sport\n",
    "            destination_port = packet[UDP].dport\n",
    "            protocol = protocol_names.get(pnum, 'Unknown')\n",
    "            encapsulated_protocols = get_encapsulated_protocols(packet)\n",
    "            protocols_present.add(protocol)\n",
    "            protocols_present.update(encapsulated_protocols)\n",
    "        else:\n",
    "            source_port = \"\"\n",
    "            destination_port = \"\"\n",
    "            protocol = protocol_names.get(pnum, 'Unknown')\n",
    "            encapsulated_protocols = []\n",
    "            protocols_present.add(protocol)\n",
    "\n",
    "        data_length = len(packet)\n",
    "        packet_info = packet.summary()\n",
    "\n",
    "        d.append({\n",
    "            'Source IP': source_ip,\n",
    "            'Destination IP': destination_ip,\n",
    "            'Source Port': source_port,\n",
    "            'Destination Port': destination_port,\n",
    "            'Protocol': protocol,\n",
    "            'Data Length': data_length,\n",
    "            'Info': packet_info\n",
    "        })\n",
    "\n",
    "df = pd.DataFrame(d)\n",
    "\n",
    "# Filter the DataFrame to include only the protocols present in both TCP and UDP\n",
    "df_filtered = df[df['Protocol'].isin(protocols_present)]\n"
   ]
  },
  {
   "cell_type": "code",
   "execution_count": null,
   "metadata": {},
   "outputs": [],
   "source": [
    "df"
   ]
  },
  {
   "cell_type": "code",
   "execution_count": null,
   "metadata": {},
   "outputs": [],
   "source": [
    "df_filtered"
   ]
  },
  {
   "cell_type": "code",
   "execution_count": null,
   "metadata": {},
   "outputs": [],
   "source": [
    "df_filtered = df[df['Protocol'].isin(protocols_present)]\n",
    "df_filtered"
   ]
  },
  {
   "cell_type": "code",
   "execution_count": null,
   "metadata": {},
   "outputs": [],
   "source": [
    "df_filtered['Protocol'].unique()"
   ]
  },
  {
   "cell_type": "code",
   "execution_count": null,
   "metadata": {},
   "outputs": [],
   "source": []
  },
  {
   "cell_type": "code",
   "execution_count": null,
   "metadata": {},
   "outputs": [],
   "source": [
    "\"C:\\\\Users\\\\cdac-\\\\Downloads\\\\2022-02-23-traffic-analysis-exercise.pcap\\\\2022-02-23-traffic-analysis-exercise.pcap\""
   ]
  },
  {
   "cell_type": "code",
   "execution_count": null,
   "metadata": {},
   "outputs": [],
   "source": [
    "df['Protocol'].unique()"
   ]
  },
  {
   "cell_type": "code",
   "execution_count": null,
   "metadata": {},
   "outputs": [],
   "source": [
    "encapsulated_protocols"
   ]
  },
  {
   "cell_type": "code",
   "execution_count": null,
   "metadata": {},
   "outputs": [],
   "source": [
    "from scapy.all import *\n",
    "import pandas as pd\n",
    "\n",
    "protocol_names = {\n",
    "    1: \"ICMP\",\n",
    "    2: \"IGMP\",\n",
    "    41: \"IPv6\",\n",
    "    6: \"TCP\",\n",
    "    17: \"UDP\",\n",
    "    80: \"HTTP\",\n",
    "    443: \"HTTPS\",\n",
    "    21: \"FTP\",\n",
    "    25: \"SMTP\",\n",
    "    110: \"POP3\",\n",
    "    143: \"IMAP\",\n",
    "    53: \"DNS\",\n",
    "    22: \"SSH\",\n",
    "    23: \"Telnet\",\n",
    "    68: \"DHCP(Client)\",\n",
    "    67: \"DHCP(server)\",\n",
    "    123: \"NTP\"\n",
    "}\n",
    "\n",
    "pcap_file = \"C:\\\\Users\\\\cdac-\\\\Downloads\\\\2022-02-23-traffic-analysis-exercise.pcap\\\\2022-02-23-traffic-analysis-exercise.pcap\"\n",
    "packets = rdpcap(pcap_file)\n",
    "\n",
    "d = []\n",
    "num_packets = 0  # Variable to count the number of packets\n",
    "\n",
    "def get_encapsulated_protocols(packet):\n",
    "    encapsulated_protocols = []\n",
    "    payload = packet.payload\n",
    "\n",
    "    while payload:\n",
    "        if isinstance(payload, TCP):\n",
    "            encapsulated_protocols.append(protocol_names.get(payload.dport, 'Unknown'))\n",
    "            payload = payload.payload\n",
    "        else:\n",
    "            break\n",
    "\n",
    "    return encapsulated_protocols\n",
    "\n",
    "for packet in packets:\n",
    "    num_packets += 1\n",
    "\n",
    "    if IP in packet:\n",
    "        source_ip = packet[IP].src\n",
    "        destination_ip = packet[IP].dst\n",
    "        if hasattr(packet[IP], \"proto\"):\n",
    "            pnum = packet[IP].proto\n",
    "        else:\n",
    "            pnum = None\n",
    "\n",
    "        if TCP in packet:\n",
    "            source_port = packet[TCP].sport\n",
    "            destination_port = packet[TCP].dport\n",
    "            protocol = protocol_names.get(pnum, 'Unknown')\n",
    "            encapsulated_protocols = get_encapsulated_protocols(packet)\n",
    "            if encapsulated_protocols:\n",
    "                protocol = f\"{protocol} ({', '.join(encapsulated_protocols)})\"\n",
    "        elif UDP in packet:\n",
    "            source_port = packet[UDP].sport\n",
    "            destination_port = packet[UDP].dport\n",
    "            protocol = protocol_names.get(pnum, 'Unknown')\n",
    "        else:\n",
    "            source_port = \"\"\n",
    "            destination_port = \"\"\n",
    "            protocol = protocol_names.get(pnum, 'Unknown')\n",
    "\n",
    "        data_length = len(packet)\n",
    "        packet_info = packet.summary()\n",
    "\n",
    "        d.append({\n",
    "            'Source IP': source_ip,\n",
    "            'Destination IP': destination_ip,\n",
    "            'Source Port': source_port,\n",
    "            'Destination Port': destination_port,\n",
    "            'Protocol': protocol,\n",
    "            'Data Length': data_length,\n",
    "            'Info': packet_info\n",
    "        })\n",
    "\n",
    "df = pd.DataFrame(d)\n",
    "print(df)\n",
    "print(\"Length of DataFrame:\", len(df))\n",
    "print(\"Length of packets:\", num_packets)\n"
   ]
  },
  {
   "cell_type": "code",
   "execution_count": null,
   "metadata": {},
   "outputs": [],
   "source": [
    "df"
   ]
  },
  {
   "cell_type": "code",
   "execution_count": null,
   "metadata": {},
   "outputs": [],
   "source": [
    "df['Protocol'].unique()"
   ]
  },
  {
   "cell_type": "code",
   "execution_count": null,
   "metadata": {},
   "outputs": [],
   "source": [
    "df.head(20)"
   ]
  },
  {
   "cell_type": "code",
   "execution_count": null,
   "metadata": {},
   "outputs": [],
   "source": [
    "from scapy.all import *\n",
    "import pandas as pd\n",
    "\n",
    "protocol_names = {\n",
    "    1: \"ICMP\",\n",
    "    2: \"IGMP\",\n",
    "    41: \"IPv6\",\n",
    "    6: \"TCP\",\n",
    "    17: \"UDP\",\n",
    "    80: \"HTTP\",\n",
    "    443: \"HTTPS\",\n",
    "    21: \"FTP\",\n",
    "    25: \"SMTP\",\n",
    "    110: \"POP3\",\n",
    "    143: \"IMAP\",\n",
    "    53: \"DNS\",\n",
    "    22: \"SSH\",\n",
    "    23: \"Telnet\",\n",
    "    68: \"DHCP(Client)\",\n",
    "    67: \"DHCP(server)\",\n",
    "    123: \"NTP\",\n",
    "    0: \"Other\"\n",
    "}\n",
    "\n",
    "pcap_file = \"C:\\\\Users\\\\cdac-\\\\Downloads\\\\2022-02-23-traffic-analysis-exercise.pcap\\\\2022-02-23-traffic-analysis-exercise.pcap\"\n",
    "packets = rdpcap(pcap_file)\n",
    "\n",
    "d = []\n",
    "num_packets = 0\n",
    "\n",
    "for packet in packets:\n",
    "    num_packets += 1\n",
    "\n",
    "    if IP in packet:\n",
    "        source_ip = packet[IP].src\n",
    "        destination_ip = packet[IP].dst\n",
    "\n",
    "        if TCP in packet:\n",
    "            protocol = protocol_names.get(packet[IP].proto, 'Other')\n",
    "            source_port = packet[TCP].sport\n",
    "            destination_port = packet[TCP].dport\n",
    "            payload = packet[TCP].payload\n",
    "        elif UDP in packet:\n",
    "            protocol = protocol_names.get(packet[IP].proto, 'Other')\n",
    "            source_port = packet[UDP].sport\n",
    "            destination_port = packet[UDP].dport\n",
    "            payload = packet[UDP].payload\n",
    "        else:\n",
    "            protocol = protocol_names.get(packet[IP].proto, 'Other')\n",
    "            source_port = \"\"\n",
    "            destination_port = \"\"\n",
    "            payload = packet.payload\n",
    "\n",
    "        data_length = len(packet)\n",
    "        packet_info = packet.summary()\n",
    "\n",
    "        d.append({\n",
    "            'Source IP': source_ip,\n",
    "            'Destination IP': destination_ip,\n",
    "            'Source Port': source_port,\n",
    "            'Destination Port': destination_port,\n",
    "            'Protocol': protocol,\n",
    "            'Data Length': data_length,\n",
    "            'Info': packet_info\n",
    "        })\n",
    "\n",
    "df = pd.DataFrame(d)\n",
    "print(df)\n",
    "print(\"Length of DataFrame:\", len(df))\n",
    "print(\"Total Packets:\", num_packets)\n"
   ]
  },
  {
   "cell_type": "code",
   "execution_count": null,
   "metadata": {},
   "outputs": [],
   "source": [
    "df.head(16)"
   ]
  },
  {
   "cell_type": "code",
   "execution_count": null,
   "metadata": {},
   "outputs": [],
   "source": [
    "df['Protocol'].unique()"
   ]
  },
  {
   "cell_type": "code",
   "execution_count": null,
   "metadata": {},
   "outputs": [],
   "source": [
    "pip install pyshark"
   ]
  },
  {
   "cell_type": "code",
   "execution_count": null,
   "metadata": {},
   "outputs": [],
   "source": []
  },
  {
   "cell_type": "code",
   "execution_count": 4,
   "metadata": {},
   "outputs": [
    {
     "name": "stdout",
     "output_type": "stream",
     "text": [
      "Requirement already satisfied: dpkt in c:\\users\\cdac-\\appdata\\local\\programs\\python\\python311\\lib\\site-packages (1.9.8)\n",
      "Note: you may need to restart the kernel to use updated packages.\n"
     ]
    }
   ],
   "source": [
    "pip install dpkt"
   ]
  },
  {
   "cell_type": "code",
   "execution_count": null,
   "metadata": {},
   "outputs": [],
   "source": [
    "\"C:\\\\Users\\\\cdac-\\\\Downloads\\\\2022-02-23-traffic-analysis-exercise.pcap\\\\2022-02-23-traffic-analysis-exercise.pcap\""
   ]
  },
  {
   "cell_type": "code",
   "execution_count": null,
   "metadata": {},
   "outputs": [],
   "source": []
  },
  {
   "cell_type": "code",
   "execution_count": null,
   "metadata": {},
   "outputs": [],
   "source": []
  },
  {
   "cell_type": "code",
   "execution_count": null,
   "metadata": {},
   "outputs": [],
   "source": [
    "import pyshark\n",
    "import pandas as pd\n",
    "\n",
    "def extract_pcap_data(pcap_path):\n",
    "    cap = pyshark.FileCapture(pcap_path)\n",
    "    data = []\n",
    "\n",
    "    for pkt in cap:\n",
    "        src_ip = pkt.ip.src if 'ip' in pkt else ''\n",
    "        dest_ip = pkt.ip.dst if 'ip' in pkt else ''\n",
    "\n",
    "        src_port = ''\n",
    "        dest_port = ''\n",
    "        protocol = pkt.highest_layer if hasattr(pkt, 'highest_layer') else 'Unknown'\n",
    "\n",
    "        if 'tcp' in pkt:\n",
    "            src_port = pkt.tcp.srcport\n",
    "            dest_port = pkt.tcp.dstport\n",
    "        elif 'udp' in pkt:\n",
    "            src_port = pkt.udp.srcport\n",
    "            dest_port = pkt.udp.dstport\n",
    "        elif 'arp' in pkt:\n",
    "            src_ip = pkt.arp.src_proto_ipv4\n",
    "            dest_ip = pkt.arp.dst_proto_ipv4\n",
    "        length = len(pkt)\n",
    "        info = ''\n",
    "        if 'http' in pkt:\n",
    "            if 'http.request.full_uri' in pkt.http.field_names:\n",
    "                info = pkt.http.request_full_uri\n",
    "        elif 'dns' in pkt:\n",
    "            if 'dns.qry.name' in pkt.dns.field_names:\n",
    "                info = pkt.dns.qry_name\n",
    "        \"\"\"for layer in pkt.layers:\n",
    "            info = \"N/A\"\n",
    "            if layer.layer_name == 'http':\n",
    "                if 'http.request.full_uri' in layer.field_names:\n",
    "                    info = layer['http.request.full_uri']\n",
    "            elif layer.layer_name == 'dns':\n",
    "                if 'dns.qry.name' in layer.field_names:\n",
    "                    info = layer['dns.qry.name']\"\"\"\n",
    "\n",
    "        data.append([src_ip, dest_ip, src_port, dest_port, protocol, length, info])\n",
    "         \n",
    "    df = pd.DataFrame(data, columns=['Source IP', 'Destination IP', 'Source Port', 'Destination Port', 'Protocol', 'Length','Info'])\n",
    "    return df\n",
    "\n",
    "pcap_path = \"C:\\\\Users\\\\cdac-\\\\Downloads\\\\2022-02-23-traffic-analysis-exercise.pcap\\\\2022-02-23-traffic-analysis-exercise.pcap\"\n",
    "extracted_data = extract_pcap_data(pcap_path)\n",
    "print(len(extracted_data))\n",
    "print(extracted_data['Protocol'].unique())\n",
    "def aggregation_results(extracted_data):\n",
    "    #df=pd.DataFrame(data)\n",
    "    results={\n",
    "        'Number Of Packets':len(extracted_data),\n",
    "        'Packet Shape':extracted_data.shape,\n",
    "        'Source IP': extracted_data['Source IP'].nunique(),\n",
    "        'Destination IP': extracted_data['Destination IP'].nunique(),\n",
    "        'Unique Source Ports': extracted_data['Source Port'].nunique(),\n",
    "        'Unique Destination Ports': extracted_data['Destination Port'].nunique(),\n",
    "        'Protocols': extracted_data['Protocol'].value_counts().to_dict(),\n",
    "        'Maximum Packet Length': extracted_data['Length'].max()\n",
    "    }\n",
    "    return results\n",
    "\n",
    "\n",
    "\n",
    "\n",
    "\n"
   ]
  },
  {
   "cell_type": "code",
   "execution_count": null,
   "metadata": {},
   "outputs": [],
   "source": []
  },
  {
   "cell_type": "code",
   "execution_count": null,
   "metadata": {},
   "outputs": [],
   "source": []
  },
  {
   "cell_type": "code",
   "execution_count": null,
   "metadata": {},
   "outputs": [],
   "source": []
  },
  {
   "cell_type": "code",
   "execution_count": null,
   "metadata": {},
   "outputs": [],
   "source": []
  }
 ],
 "metadata": {
  "kernelspec": {
   "display_name": "Python 3",
   "language": "python",
   "name": "python3"
  },
  "language_info": {
   "codemirror_mode": {
    "name": "ipython",
    "version": 3
   },
   "file_extension": ".py",
   "mimetype": "text/x-python",
   "name": "python",
   "nbconvert_exporter": "python",
   "pygments_lexer": "ipython3",
   "version": "3.11.3"
  },
  "orig_nbformat": 4
 },
 "nbformat": 4,
 "nbformat_minor": 2
}
